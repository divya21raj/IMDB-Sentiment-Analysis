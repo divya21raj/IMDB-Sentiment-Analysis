{
 "nbformat": 4,
 "nbformat_minor": 2,
 "metadata": {
  "language_info": {
   "name": "python",
   "codemirror_mode": {
    "name": "ipython",
    "version": 3
   },
   "version": "3.7.5-final"
  },
  "orig_nbformat": 2,
  "file_extension": ".py",
  "mimetype": "text/x-python",
  "name": "python",
  "npconvert_exporter": "python",
  "pygments_lexer": "ipython3",
  "version": 3,
  "kernelspec": {
   "name": "python37564bitimdbsentimentanalysispipenved16bb9a912a4509ae6567e1bb5dad93",
   "display_name": "Python 3.7.5 64-bit ('IMDB-SentimentAnalysis': pipenv)"
  }
 },
 "cells": [
  {
   "cell_type": "code",
   "execution_count": 2,
   "metadata": {},
   "outputs": [],
   "source": [
    "#Loading it up\n",
    "reviews_train = []\n",
    "reviews_test = []\n",
    "\n",
    "for line in open('aclImdb/movie_data/full_train.txt'):\n",
    "    reviews_train.append(line.strip().lower())\n",
    "    \n",
    "for line in open('aclImdb/movie_data/full_test.txt'):\n",
    "    reviews_test.append(line.strip().lower())\n",
    "    "
   ]
  },
  {
   "cell_type": "code",
   "execution_count": 4,
   "metadata": {},
   "outputs": [],
   "source": [
    "from nltk.corpus import stopwords\n",
    "engStopWords = ['a', 'the', 'in', 'of', 'at', 'is']\n",
    "def removeStopWords(reviewList):\n",
    "    cleanReviews = []\n",
    "    for review in reviewList:\n",
    "        cleanReviews.append(' '.join(word for word in review.split() if word not in engStopWords))\n",
    "    \n",
    "    return cleanReviews\n",
    "\n",
    "reviews_train = removeStopWords(reviews_train)\n",
    "\n"
   ]
  },
  {
   "cell_type": "code",
   "execution_count": null,
   "metadata": {},
   "outputs": [],
   "source": []
  }
 ]
}