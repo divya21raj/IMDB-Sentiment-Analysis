{
 "nbformat": 4,
 "nbformat_minor": 2,
 "metadata": {
  "language_info": {
   "name": "python",
   "codemirror_mode": {
    "name": "ipython",
    "version": 3
   },
   "version": "3.7.5-final"
  },
  "orig_nbformat": 2,
  "file_extension": ".py",
  "mimetype": "text/x-python",
  "name": "python",
  "npconvert_exporter": "python",
  "pygments_lexer": "ipython3",
  "version": 3,
  "kernelspec": {
   "name": "python37564bitimdbsentimentanalysispipenved16bb9a912a4509ae6567e1bb5dad93",
   "display_name": "Python 3.7.5 64-bit ('IMDB-SentimentAnalysis': pipenv)"
  }
 },
 "cells": [
  {
   "cell_type": "code",
   "execution_count": null,
   "metadata": {},
   "outputs": [],
   "source": [
    "#Loading it up\n",
    "reviews_train = []\n",
    "reviews_test = []\n",
    "\n",
    "for line in open('aclImdb/movie_data/full_train.txt'):\n",
    "    reviews_train.append(line.strip().lower())\n",
    "    \n",
    "for line in open('aclImdb/movie_data/full_test.txt'):\n",
    "    reviews_test.append(line.strip().lower())\n",
    "    "
   ]
  },
  {
   "cell_type": "code",
   "execution_count": null,
   "metadata": {},
   "outputs": [],
   "source": [
    "engStopWords = ['a', 'the', 'in', 'of', 'at', 'is']\n",
    "def removeStopWords(reviewList):\n",
    "    cleanReviews = []\n",
    "    for review in reviewList:\n",
    "        cleanReviews.append(' '.join(word for word in review.split() if word not in engStopWords))\n",
    "    \n",
    "    return cleanReviews\n",
    "\n",
    "reviews_train = removeStopWords(reviews_train)\n",
    "reviews_test = removeStopWords(reviews_test)\n"
   ]
  },
  {
   "cell_type": "code",
   "execution_count": null,
   "metadata": {},
   "outputs": [],
   "source": [
    "# Stemming -> https://www.nltk.org/howto/stem.html\n",
    "from nltk.stem import SnowballStemmer\n",
    "\n",
    "def stemWords(reviewList):\n",
    "    stemReviews = []\n",
    "    for review in reviewList:\n",
    "        stemReviews.append(' '.join(SnowballStemmer(\"porter\").stem(word) for word in review.split()))\n",
    "        # \"porter\" gives more accuracy than \"english\"\n",
    "    \n",
    "    return stemReviews\n",
    "\n",
    "reviews_train = stemWords(reviews_train)\n",
    "reviews_test = stemWords(reviews_test)"
   ]
  },
  {
   "cell_type": "code",
   "execution_count": 50,
   "metadata": {},
   "outputs": [],
   "source": [
    "# Ngram Count Vectorizer\n",
    "from sklearn.feature_extraction.text import CountVectorizer\n",
    "from sklearn.feature_extraction.text import TfidfVectorizer\n",
    "\n",
    "def getVectorizer(type):\n",
    "    if type == 'cv':\n",
    "        return CountVectorizer(binary=True, ngram_range=(1,2))\n",
    "    elif type == 'tfidf':\n",
    "        return TfidfVectorizer()\n",
    "    elif type == 'cv-grp':\n",
    "        return CountVectorizer(binary=False, ngram_range=(1,2))\n",
    "\n",
    "vec = getVectorizer('cv')\n",
    "vec.fit(reviews_train)\n",
    "\n",
    "X = vec.transform(reviews_train)\n",
    "X_test = vec.transform(reviews_test)\n"
   ]
  },
  {
   "cell_type": "code",
   "execution_count": null,
   "metadata": {},
   "outputs": [],
   "source": [
    "# LOGISTIC REGRESSION - Finding optimal value for c\n",
    "from sklearn.linear_model import LogisticRegression\n",
    "from sklearn.model_selection import train_test_split\n",
    "from sklearn.metrics import accuracy_score\n",
    "\n",
    "target = [1 if i<12500 else 0 for i in range(25000)]\n",
    "\n",
    "X_train, X_val, Y_train, Y_val = train_test_split(X, target, train_size=0.75)\n",
    "\n",
    "for c in [0.01, 0.05, 0.1, 0.5, 1]:\n",
    "    lr = LogisticRegression(C=c)\n",
    "    lr.fit(X_train, Y_train)\n",
    "\n",
    "    print(\"Accuracy score for c = %s is %s\"%(c, accuracy_score(Y_val, lr.predict(X_val))))\n"
   ]
  },
  {
   "cell_type": "code",
   "execution_count": 47,
   "metadata": {},
   "outputs": [
    {
     "name": "stdout",
     "output_type": "stream",
     "text": "Final accuracy score for c = 0.5 is 0.89776\n"
    }
   ],
   "source": [
    "# Moving on with C = 0.5\n",
    "\n",
    "lr = LogisticRegression(C=0.5)\n",
    "lr.fit(X, target)\n",
    "\n",
    "print(\"Final accuracy score for c = %s is %s\"%(0.5, accuracy_score(target, lr.predict(X_test))))\n",
    "\n"
   ]
  }
 ]
}