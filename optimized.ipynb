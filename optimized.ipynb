{
 "nbformat": 4,
 "nbformat_minor": 2,
 "metadata": {
  "language_info": {
   "name": "python",
   "codemirror_mode": {
    "name": "ipython",
    "version": 3
   },
   "version": "3.7.5-final"
  },
  "orig_nbformat": 2,
  "file_extension": ".py",
  "mimetype": "text/x-python",
  "name": "python",
  "npconvert_exporter": "python",
  "pygments_lexer": "ipython3",
  "version": 3,
  "kernelspec": {
   "name": "python3",
   "language": "python",
   "display_name": "Python 3"
  },
  "pycharm": {
   "stem_cell": {
    "cell_type": "raw",
    "source": [],
    "metadata": {
     "collapsed": false
    }
   }
  }
 },
 "cells": [
  {
   "cell_type": "code",
   "execution_count": 1,
   "metadata": {
    "pycharm": {
     "is_executing": false
    }
   },
   "outputs": [],
   "source": [
    "#Loading it up\n",
    "reviews_train = []\n",
    "reviews_test = []\n",
    "\n",
    "for line in open('aclImdb/movie_data/full_train.txt'):\n",
    "    reviews_train.append(line.strip().lower())\n",
    "    \n",
    "for line in open('aclImdb/movie_data/full_test.txt'):\n",
    "    reviews_test.append(line.strip().lower())\n",
    "    "
   ]
  },
  {
   "cell_type": "code",
   "execution_count": 2,
   "metadata": {
    "pycharm": {
     "is_executing": false
    }
   },
   "outputs": [],
   "source": [
    "engStopWords = ['a', 'the', 'in', 'of', 'at', 'is']\n",
    "def removeStopWords(reviewList):\n",
    "    cleanReviews = []\n",
    "    for review in reviewList:\n",
    "        cleanReviews.append(' '.join(word for word in review.split() if word not in engStopWords))\n",
    "    \n",
    "    return cleanReviews\n",
    "\n",
    "reviews_train = removeStopWords(reviews_train)\n",
    "reviews_test = removeStopWords(reviews_test)\n"
   ]
  },
  {
   "cell_type": "code",
   "execution_count": 3,
   "metadata": {
    "pycharm": {
     "is_executing": false
    }
   },
   "outputs": [],
   "source": [
    "# Stemming -> https://www.nltk.org/howto/stem.html\n",
    "from nltk.stem import SnowballStemmer\n",
    "\n",
    "def stemWords(reviewList):\n",
    "    stemReviews = []\n",
    "    for review in reviewList:\n",
    "        stemReviews.append(' '.join(SnowballStemmer(\"porter\").stem(word) for word in review.split()))\n",
    "        # \"porter\" gives more accuracy than \"english\"\n",
    "    \n",
    "    return stemReviews\n",
    "\n",
    "reviews_train = stemWords(reviews_train)\n",
    "reviews_test = stemWords(reviews_test)"
   ]
  },
  {
   "cell_type": "code",
   "execution_count": 4,
   "metadata": {
    "pycharm": {
     "is_executing": false
    }
   },
   "outputs": [],
   "source": [
    "# Ngram Count Vectorizer\n",
    "from sklearn.feature_extraction.text import CountVectorizer\n",
    "from sklearn.feature_extraction.text import TfidfVectorizer\n",
    "\n",
    "def getVectorizer(type):\n",
    "    if type == 'cv':\n",
    "        return CountVectorizer(binary=True, ngram_range=(1,2))\n",
    "    elif type == 'tfidf':\n",
    "        return TfidfVectorizer(ngram_range=(1,2))\n",
    "    elif type == 'cv-grp':\n",
    "        return CountVectorizer(binary=False, ngram_range=(1,2))\n",
    "\n",
    "vec = getVectorizer('cv')\n",
    "vec.fit(reviews_train)\n",
    "\n",
    "X = vec.transform(reviews_train)\n",
    "X_test = vec.transform(reviews_test)\n"
   ]
  },
  {
   "cell_type": "code",
   "execution_count": 7,
   "metadata": {
    "pycharm": {
     "is_executing": false
    }
   },
   "outputs": [
    {
     "name": "stdout",
     "text": [
      "Accuracy score for c = 0.01 is 0.87376\n",
      "Accuracy score for c = 0.05 is 0.87952\n",
      "Accuracy score for c = 0.1 is 0.88256\n",
      "Accuracy score for c = 0.5 is 0.88224\n",
      "Accuracy score for c = 1 is 0.88192\n"
     ],
     "output_type": "stream"
    },
    {
     "name": "stderr",
     "text": [
      "/home/divya21raj/.local/share/virtualenvs/IMDB-SentimentAnalysis-0JBg0bd-/lib/python3.7/site-packages/sklearn/linear_model/_logistic.py:940: ConvergenceWarning: lbfgs failed to converge (status=1):\n",
      "STOP: TOTAL NO. of ITERATIONS REACHED LIMIT.\n",
      "\n",
      "Increase the number of iterations (max_iter) or scale the data as shown in:\n",
      "    https://scikit-learn.org/stable/modules/preprocessing.html\n",
      "Please also refer to the documentation for alternative solver options:\n",
      "    https://scikit-learn.org/stable/modules/linear_model.html#logistic-regression\n",
      "  extra_warning_msg=_LOGISTIC_SOLVER_CONVERGENCE_MSG)\n",
      "/home/divya21raj/.local/share/virtualenvs/IMDB-SentimentAnalysis-0JBg0bd-/lib/python3.7/site-packages/sklearn/linear_model/_logistic.py:940: ConvergenceWarning: lbfgs failed to converge (status=1):\n",
      "STOP: TOTAL NO. of ITERATIONS REACHED LIMIT.\n",
      "\n",
      "Increase the number of iterations (max_iter) or scale the data as shown in:\n",
      "    https://scikit-learn.org/stable/modules/preprocessing.html\n",
      "Please also refer to the documentation for alternative solver options:\n",
      "    https://scikit-learn.org/stable/modules/linear_model.html#logistic-regression\n",
      "  extra_warning_msg=_LOGISTIC_SOLVER_CONVERGENCE_MSG)\n"
     ],
     "output_type": "stream"
    }
   ],
   "source": [
    "# LOGISTIC REGRESSION - Finding optimal value for c\n",
    "from sklearn.linear_model import LogisticRegression\n",
    "from sklearn.model_selection import train_test_split\n",
    "from sklearn.metrics import accuracy_score\n",
    "\n",
    "target = [1 if i<12500 else 0 for i in range(25000)]\n",
    "\n",
    "X_train, X_val, Y_train, Y_val = train_test_split(X, target, train_size=0.75)\n",
    "\n",
    "for c in [0.01, 0.05, 0.1, 0.5, 1]:\n",
    "    lr = LogisticRegression(C=c)\n",
    "    lr.fit(X_train, Y_train)\n",
    "\n",
    "    print(\"Accuracy score for c = %s is %s\"%(c, accuracy_score(Y_val, lr.predict(X_val))))\n"
   ]
  },
  {
   "cell_type": "code",
   "execution_count": 8,
   "metadata": {
    "pycharm": {
     "is_executing": false
    }
   },
   "outputs": [
    {
     "name": "stderr",
     "text": [
      "/home/divya21raj/.local/share/virtualenvs/IMDB-SentimentAnalysis-0JBg0bd-/lib/python3.7/site-packages/sklearn/linear_model/_logistic.py:940: ConvergenceWarning: lbfgs failed to converge (status=1):\n",
      "STOP: TOTAL NO. of ITERATIONS REACHED LIMIT.\n",
      "\n",
      "Increase the number of iterations (max_iter) or scale the data as shown in:\n",
      "    https://scikit-learn.org/stable/modules/preprocessing.html\n",
      "Please also refer to the documentation for alternative solver options:\n",
      "    https://scikit-learn.org/stable/modules/linear_model.html#logistic-regression\n",
      "  extra_warning_msg=_LOGISTIC_SOLVER_CONVERGENCE_MSG)\n"
     ],
     "output_type": "stream"
    },
    {
     "name": "stdout",
     "text": [
      "Final accuracy score for c = 0.5 is 0.89924\n"
     ],
     "output_type": "stream"
    }
   ],
   "source": [
    "# Moving on with C = 0.5\n",
    "\n",
    "lr = LogisticRegression(C=0.5)\n",
    "lr.fit(X, target)\n",
    "\n",
    "print(\"Final accuracy score for c = %s is %s\"%(0.5, accuracy_score(target, lr.predict(X_test))))\n",
    "\n"
   ]
  },
  {
   "cell_type": "code",
   "execution_count": 9,
   "metadata": {
    "pycharm": {
     "is_executing": false
    }
   },
   "outputs": [
    {
     "name": "stdout",
     "text": [
      "Accuracy score for c = 0.01 is 0.8824\n",
      "Accuracy score for c = 0.05 is 0.87712\n",
      "Accuracy score for c = 0.1 is 0.87584\n",
      "Accuracy score for c = 0.5 is 0.87488\n",
      "Accuracy score for c = 1 is 0.87424\n"
     ],
     "output_type": "stream"
    },
    {
     "name": "stderr",
     "text": [
      "/home/divya21raj/.local/share/virtualenvs/IMDB-SentimentAnalysis-0JBg0bd-/lib/python3.7/site-packages/sklearn/svm/_base.py:947: ConvergenceWarning: Liblinear failed to converge, increase the number of iterations.\n",
      "  \"the number of iterations.\", ConvergenceWarning)\n"
     ],
     "output_type": "stream"
    }
   ],
   "source": [
    "# SVM with linear kernel\n",
    "from sklearn.svm import LinearSVC\n",
    "\n",
    "for c in [0.01, 0.05, 0.1, 0.5, 1]:\n",
    "    svc = LinearSVC(C=c)\n",
    "    svc.fit(X_train, Y_train)\n",
    "\n",
    "    print(\"Accuracy score for c = %s is %s\"%(c, accuracy_score(Y_val, svc.predict(X_val))))"
   ]
  },
  {
   "cell_type": "code",
   "execution_count": 10,
   "metadata": {
    "pycharm": {
     "is_executing": false
    }
   },
   "outputs": [
    {
     "name": "stdout",
     "text": [
      "Final accuracy score for c = 0.5 is 0.89876\n"
     ],
     "output_type": "stream"
    }
   ],
   "source": [
    "# Moving on with C = 0.01\n",
    "\n",
    "svc = LinearSVC(C=0.01)\n",
    "svc.fit(X, target)\n",
    "\n",
    "print(\"Final accuracy score for c = %s is %s\"%(0.5, accuracy_score(target, svc.predict(X_test))))"
   ]
  },
  {
   "cell_type": "code",
   "execution_count": 11,
   "outputs": [],
   "source": [
    "import pickle\n",
    "\n",
    "pickle.dump(lr, open('lrOpti.pkl', 'wb'))\n",
    "pickle.dump(svc, open('svc.pkl', 'wb'))\n"
   ],
   "metadata": {
    "collapsed": false,
    "pycharm": {
     "name": "#%%\n",
     "is_executing": false
    }
   }
  }
 ]
}