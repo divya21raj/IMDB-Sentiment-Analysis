{
 "nbformat": 4,
 "nbformat_minor": 2,
 "metadata": {
  "language_info": {
   "name": "python",
   "codemirror_mode": {
    "name": "ipython",
    "version": 3
   },
   "version": "3.7.5-final"
  },
  "orig_nbformat": 2,
  "file_extension": ".py",
  "mimetype": "text/x-python",
  "name": "python",
  "npconvert_exporter": "python",
  "pygments_lexer": "ipython3",
  "version": 3,
  "kernelspec": {
   "name": "python37564bitimdbsentimentanalysispipenved16bb9a912a4509ae6567e1bb5dad93",
   "display_name": "Python 3.7.5 64-bit ('IMDB-SentimentAnalysis': pipenv)"
  }
 },
 "cells": [
  {
   "cell_type": "code",
   "execution_count": 31,
   "metadata": {},
   "outputs": [],
   "source": [
    "#Loading it up\n",
    "reviews_train = []\n",
    "reviews_test = []\n",
    "\n",
    "for line in open('aclImdb/movie_data/full_train.txt'):\n",
    "    reviews_train.append(line.strip().lower())\n",
    "    \n",
    "for line in open('aclImdb/movie_data/full_test.txt'):\n",
    "    reviews_test.append(line.strip().lower())\n",
    "    "
   ]
  },
  {
   "cell_type": "code",
   "execution_count": 32,
   "metadata": {},
   "outputs": [],
   "source": [
    "engStopWords = ['a', 'the', 'in', 'of', 'at', 'is']\n",
    "def removeStopWords(reviewList):\n",
    "    cleanReviews = []\n",
    "    for review in reviewList:\n",
    "        cleanReviews.append(' '.join(word for word in review.split() if word not in engStopWords))\n",
    "    \n",
    "    return cleanReviews\n",
    "\n",
    "reviews_train = removeStopWords(reviews_train)\n",
    "reviews_test = removeStopWords(reviews_test)\n"
   ]
  },
  {
   "cell_type": "code",
   "execution_count": 28,
   "metadata": {},
   "outputs": [],
   "source": [
    "# Stemming -> https://www.nltk.org/howto/stem.html\n",
    "from nltk.stem import SnowballStemmer\n",
    "\n",
    "def stemWords(reviewList):\n",
    "    stemReviews = []\n",
    "    for review in reviewList:\n",
    "        stemReviews.append(' '.join(SnowballStemmer(\"english\").stem(word) for word in review.split()))\n",
    "    \n",
    "    return stemReviews\n",
    "\n",
    "reviews_train = stemWords(reviews_train)"
   ]
  },
  {
   "cell_type": "code",
   "execution_count": 30,
   "metadata": {},
   "outputs": [
    {
     "data": {
      "text/plain": "'bromwel high cartoon comedy. it ran same time as some other program about school life, such as \"teachers\". my 35 year teach profess lead me to believ that bromwel high\\' satir much closer to realiti than \"teachers\". scrambl to surviv financially, insight student who can see right through their pathet teachers\\' pomp, petti whole situation, all remind me school i knew and their students. when i saw episod which student repeatedli tri to burn down school, i immedi recal ......... .......... high. classic line: inspector: i\\'m here to sack one your teachers. student: welcom to bromwel high. i expect that mani adult my age think that bromwel high far fetched. what piti that it isn\\'t!'"
     },
     "execution_count": 30,
     "metadata": {},
     "output_type": "execute_result"
    }
   ],
   "source": [
    "reviews_train[0]"
   ]
  }
 ]
}