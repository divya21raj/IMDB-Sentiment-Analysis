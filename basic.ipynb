{
 "cells": [
  {
   "cell_type": "code",
   "execution_count": null,
   "metadata": {},
   "outputs": [],
   "source": [
    "#Loading it up\n",
    "reviews_train = []\n",
    "reviews_test = []\n",
    "\n",
    "for line in open('aclImdb/movie_data/full_train.txt'):\n",
    "    reviews_train.append(line.strip().lower())\n",
    "    \n",
    "for line in open('aclImdb/movie_data/full_test.txt'):\n",
    "    reviews_test.append(line.strip().lower())\n",
    "    \n"
   ]
  },
  {
   "cell_type": "code",
   "execution_count": null,
   "metadata": {},
   "outputs": [],
   "source": [
    "#Cleanup of Data\n",
    "import re\n",
    "\n",
    "reviews_train = [re.compile(\"[.;:!\\'?,\\\"()\\[\\]]\").sub(\"\", line) for line in reviews_train]\n",
    "reviews_test = [re.compile(\"[.;:!\\'?,\\\"()\\[\\]]\").sub(\"\", line) for line in reviews_test]\n",
    "\n",
    "reviews_train = [re.compile(\"(<br\\s*/><br\\s*/>)|(-)|(/)\").sub(\" \", line) for line in reviews_train]\n",
    "reviews_test = [re.compile(\"(<br\\s*/><br\\s*/>)|(-)|(/)\").sub(\" \", line) for line in reviews_test]\n",
    "\n",
    "print(reviews_test[:2])\n"
   ]
  },
  {
   "cell_type": "code",
   "execution_count": null,
   "metadata": {},
   "outputs": [],
   "source": [
    "# One hot encode\n",
    "from sklearn.feature_extraction.text import CountVectorizer\n",
    "\n",
    "cv = CountVectorizer(binary=True)\n",
    "cv.fit(reviews_train)\n",
    "X = cv.transform(reviews_train)\n",
    "X_test = cv.transform(reviews_test)"
   ]
  },
  {
   "cell_type": "code",
   "execution_count": null,
   "metadata": {},
   "outputs": [],
   "source": [
    "# LOGISTIC REGRESSION - Finding optimal value for c\n",
    "from sklearn.linear_model import LogisticRegression\n",
    "from sklearn.model_selection import train_test_split\n",
    "from sklearn.metrics import accuracy_score\n",
    "\n",
    "target = [1 if i<12500 else 0 for i in range(25000)]\n",
    "\n",
    "X_train, X_val, Y_train, Y_val = train_test_split(X, target, train_size=0.75)\n",
    "\n",
    "for c in [0.01, 0.05, 0.1, 0.5, 1]:\n",
    "    lr = LogisticRegression(C = c)\n",
    "    lr.fit(X_train, Y_train)\n",
    "\n",
    "    print(\"Accuracy for C=%s is %s\" %(c, accuracy_score(Y_val, lr.predict(X_val))))\n",
    "\n"
   ]
  },
  {
   "cell_type": "code",
   "execution_count": null,
   "metadata": {},
   "outputs": [],
   "source": [
    "# Moving on with c = 0.05\n",
    "lr = LogisticRegression(C = 0.05)\n",
    "lr.fit(X, target)\n",
    "\n",
    "print(\"Final Accuracy is %s\" %(accuracy_score(target, lr.predict(X_test))))"
   ]
  },
  {
   "cell_type": "code",
   "execution_count": null,
   "metadata": {},
   "outputs": [],
   "source": [
    "# Sanity Check\n",
    "\n",
    "feature_to_coef = {\n",
    "    word: coef for word, coef in zip(\n",
    "        cv.get_feature_names(), lr.coef_[0]\n",
    "    )\n",
    "}\n",
    "\n",
    "for worst in sorted(feature_to_coef.items(), key=lambda x: x[1])[:5]: print(worst)\n",
    "print(\"\\n\")\n",
    "for best in sorted(feature_to_coef.items(), key=lambda x: x[1], reverse=True)[:5]: print(best)\n",
    "    "
   ]
  },
  {
   "cell_type": "code",
   "execution_count": null,
   "metadata": {},
   "outputs": [],
   "source": [
    "#Test input\n",
    "import numpy as np\n",
    "\n",
    "lr.predict(cv.transform(['An entertaining and engaging look at the world of Indian rappers.']))\n",
    "\n"
   ]
  },
  {
   "cell_type": "code",
   "execution_count": 101,
   "metadata": {},
   "outputs": [],
   "source": [
    "import pickle\n",
    "\n",
    "pickle.dump(lr, open('logRegSentiment.pkl', 'wb'))"
   ]
  }
 ],
 "metadata": {
  "kernelspec": {
   "display_name": "Python 3",
   "language": "python",
   "name": "python3"
  },
  "language_info": {
   "codemirror_mode": {
    "name": "ipython",
    "version": 2
   },
   "file_extension": ".py",
   "mimetype": "text/x-python",
   "name": "python",
   "nbconvert_exporter": "python",
   "pygments_lexer": "ipython2",
   "version": "3.7.5-final"
  },
  "pycharm": {
   "stem_cell": {
    "cell_type": "raw",
    "source": [],
    "metadata": {
     "collapsed": false
    }
   }
  }
 },
 "nbformat": 4,
 "nbformat_minor": 0
}