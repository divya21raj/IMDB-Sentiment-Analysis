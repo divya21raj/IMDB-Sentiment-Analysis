{
 "cells": [
  {
   "cell_type": "code",
   "execution_count": null,
   "metadata": {},
   "outputs": [],
   "source": [
    "#Loading it up\n",
    "reviews_train = []\n",
    "reviews_test = []\n",
    "\n",
    "for line in open('aclImdb/movie_data/full_train.txt'):\n",
    "    reviews_train.append(line.strip().lower())\n",
    "    \n",
    "for line in open('aclImdb/movie_data/full_test.txt'):\n",
    "    reviews_test.append(line.strip().lower())\n",
    "    \n"
   ]
  },
  {
   "cell_type": "code",
   "execution_count": null,
   "metadata": {},
   "outputs": [],
   "source": [
    "#Cleanup of Data\n",
    "import re\n",
    "\n",
    "reviews_train = [re.compile(\"[.;:!\\'?,\\\"()\\[\\]]\").sub(\"\", line) for line in reviews_train]\n",
    "reviews_test = [re.compile(\"[.;:!\\'?,\\\"()\\[\\]]\").sub(\"\", line) for line in reviews_test]\n",
    "\n",
    "reviews_train = [re.compile(\"(<br\\s*/><br\\s*/>)|(-)|(/)\").sub(\" \", line) for line in reviews_train]\n",
    "reviews_test = [re.compile(\"(<br\\s*/><br\\s*/>)|(-)|(/)\").sub(\" \", line) for line in reviews_test]\n",
    "\n",
    "print(reviews_test[:2])\n"
   ]
  },
  {
   "cell_type": "code",
   "execution_count": null,
   "metadata": {},
   "outputs": [],
   "source": [
    "#one hot encode\n",
    "from sklearn.feature_extraction.text import CountVectorizer\n",
    "\n",
    "cv = CountVectorizer(binary=True)\n",
    "cv.fit(reviews_train)\n",
    "X = cv.transform(reviews_train)\n",
    "X_test = cv.transform(reviews_test)"
   ]
  },
  {
   "cell_type": "code",
   "execution_count": 16,
   "metadata": {},
   "outputs": [
    {
     "name": "stdout",
     "output_type": "stream",
     "text": "Accuracy for C=0.01 is 0.87968\nAccuracy for C=0.05 is 0.88704\nAccuracy for C=0.1 is 0.88704\nAccuracy for C=0.5 is 0.87952\nAccuracy for C=1 is 0.87616\n"
    }
   ],
   "source": [
    "# LOGISTIC REGRESSION - Finding optimal value for c\n",
    "from sklearn.linear_model import LogisticRegression\n",
    "from sklearn.model_selection import train_test_split\n",
    "from sklearn.metrics import accuracy_score\n",
    "\n",
    "target = [1 if i<12500 else 0 for i in range(25000)]\n",
    "\n",
    "X_train, X_val, Y_train, Y_val = train_test_split(X, target, train_size=0.75)\n",
    "\n",
    "for c in [0.01, 0.05, 0.1, 0.5, 1]:\n",
    "    lr = LogisticRegression(C = c)\n",
    "    lr.fit(X_train, Y_train)\n",
    "\n",
    "    print(\"Accuracy for C=%s is %s\" %(c, accuracy_score(Y_val, lr.predict(X_val))))\n",
    "\n"
   ]
  },
  {
   "cell_type": "code",
   "execution_count": 17,
   "metadata": {},
   "outputs": [
    {
     "name": "stdout",
     "output_type": "stream",
     "text": "Final Accuracy is 0.88156\n"
    }
   ],
   "source": [
    "#Moving on with c = 0.05\n",
    "lr = LogisticRegression(C = 0.05)\n",
    "lr.fit(X, target)\n",
    "\n",
    "print(\"Final Accuracy is %s\" %(accuracy_score(target, lr.predict(X_test))))"
   ]
  }
 ],
 "metadata": {
  "kernelspec": {
   "display_name": "Python 3",
   "language": "python",
   "name": "python3"
  },
  "language_info": {
   "codemirror_mode": {
    "name": "ipython",
    "version": 2
   },
   "file_extension": ".py",
   "mimetype": "text/x-python",
   "name": "python",
   "nbconvert_exporter": "python",
   "pygments_lexer": "ipython2",
   "version": "3.7.5-final"
  },
  "pycharm": {
   "stem_cell": {
    "cell_type": "raw",
    "source": [],
    "metadata": {
     "collapsed": false
    }
   }
  }
 },
 "nbformat": 4,
 "nbformat_minor": 0
}